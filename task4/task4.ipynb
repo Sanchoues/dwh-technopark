{
 "cells": [
  {
   "cell_type": "code",
   "execution_count": 197,
   "metadata": {},
   "outputs": [],
   "source": [
    "# task4\n",
    "user = 'a.eliseev'"
   ]
  },
  {
   "cell_type": "code",
   "execution_count": 198,
   "metadata": {},
   "outputs": [],
   "source": [
    "from pyspark.sql.types import *\n",
    "import pyspark.sql.functions as sf\n",
    "\n",
    "current_dt = \"2023-03-01\"\n",
    "\n",
    "demography_path = \"/user/{}/data/data3/ok/coreDemography\".format(user)\n",
    "country_path = \"/user/{}/data/data3/ok/geography/countries.csv\".format(user)\n",
    "cities_path = \"/user/{}/data/data3/ok/geography/rs_city.csv\".format(user)\n",
    "rosstat_path = \"/user/{}/data/data3/rosstat\".format(user)\n",
    "\n",
    "# Путь до результата\n",
    "output_path = \"/user/{}/task4\".format(user)"
   ]
  },
  {
   "cell_type": "code",
   "execution_count": 364,
   "metadata": {},
   "outputs": [
    {
     "name": "stderr",
     "output_type": "stream",
     "text": [
      "24/04/21 11:10:14 WARN Utils: Service 'SparkUI' could not bind on port 4040. Attempting port 4041.\n",
      "24/04/21 11:10:14 WARN Client: Neither spark.yarn.jars nor spark.yarn.archive is set, falling back to uploading libraries under SPARK_HOME.\n"
     ]
    }
   ],
   "source": [
    "import os\n",
    "import pyspark\n",
    "os.environ[\"HADOOP_CONF_DIR\"]=\"/etc/hadoop/conf\"\n",
    "os.environ[\"HIVE_HOME\"]=\"/usr/lib/hive\"\n",
    "os.environ[\"METASTORE_PORT\"]=\"9083\"\n",
    "\n",
    "spark = pyspark.sql.SparkSession.builder\\\n",
    "    .master(\"yarn\")\\\n",
    "    .appName(\"task4_aeliseev\")\\\n",
    "    .config(\"spark.executor.instances\", \"1\")\\\n",
    "    .config(\"spark.executor.memory\", \"1G\")\\\n",
    "    .config(\"spark.executor.cores\", \"2\")\\\n",
    "    .config(\"spark.dynamicAllocation.enabled\", \"false\")\\\n",
    "    .config(\"spark.dynamicAllocation.executorIdleTimeout\", \"300s\")\\\n",
    "    .config(\"spark.dynamicAllocation.maxExecutors\", \"1000\")\\\n",
    "    .config(\"spark.driver.memory\", \"1G\")\\\n",
    "    .config(\"spark.driver.maxResultSize\", \"1G\")\\\n",
    "    .config(\"spark.serializer\", \"org.apache.spark.serializer.KryoSerializer\")\\\n",
    "    .config(\"spark.kryoserializer.buffer.max\", \"1024m\")\\\n",
    "    .enableHiveSupport()\\\n",
    "    .getOrCreate()\n",
    "\n",
    "spark_context = spark.sparkContext"
   ]
  },
  {
   "cell_type": "markdown",
   "metadata": {},
   "source": [
    "# Минимальная, максимальная и средняя цена по всем городам "
   ]
  },
  {
   "cell_type": "code",
   "execution_count": 365,
   "metadata": {},
   "outputs": [
    {
     "name": "stderr",
     "output_type": "stream",
     "text": [
      "                                                                                \r"
     ]
    }
   ],
   "source": [
    "# Список продуктов, которые учитываются в статистике\n",
    "\n",
    "products_for_stat_path = \"{}/products_for_stat.csv\".format(rosstat_path)\n",
    "\n",
    "source_products_for_stat_df = (\n",
    "    spark.read\n",
    "        .option(\"header\", \"false\")\n",
    "        .csv(products_for_stat_path) #.limit(20)\n",
    ")\n",
    "\n",
    "products_for_stat_df = (\n",
    "    source_products_for_stat_df\n",
    "    .select(\n",
    "        sf.col(\"_c0\").cast(IntegerType()).alias(\"product_id\"),\n",
    "    )\n",
    ")"
   ]
  },
  {
   "cell_type": "code",
   "execution_count": 366,
   "metadata": {},
   "outputs": [],
   "source": [
    "# Набор данных по всем товарам и ценам\n",
    "\n",
    "prices_path = \"{}/price\".format(rosstat_path)\n",
    "source_prices_df = (\n",
    "    spark.read\n",
    "        .option(\"header\", \"false\")\n",
    "        .option(\"sep\", \";\")\n",
    "        .csv(prices_path)  #.limit(20)\n",
    ")\n",
    "\n",
    "source_prices_df = source_prices_df.replace(',', '.', '_c2')\n",
    "\n",
    "prices_df = (\n",
    "    source_prices_df\n",
    "    .select(\n",
    "        sf.col(\"_c0\").cast(IntegerType()).alias(\"city_id\"),\n",
    "        sf.col(\"_c1\").cast(IntegerType()).alias(\"product_id\"),\n",
    "        sf.regexp_replace('_c2', ',', '.').cast(FloatType()).alias(\"price\")\n",
    "    )\n",
    ")"
   ]
  },
  {
   "cell_type": "code",
   "execution_count": 367,
   "metadata": {},
   "outputs": [],
   "source": [
    "# Статистика по необходимым товарам\n",
    "\n",
    "price_stat_df = (\n",
    "    prices_df\n",
    "    .join(products_for_stat_df, on='product_id', how='left')\n",
    "    .groupBy(\"product_id\")\n",
    "    .agg(sf.min(\"price\").alias(\"min_price\"),\n",
    "        sf.max(\"price\").alias(\"max_price\"),\n",
    "        sf.round(sf.avg(\"price\"), 2).alias(\"price_avg\"))\n",
    ")"
   ]
  },
  {
   "cell_type": "code",
   "execution_count": 368,
   "metadata": {},
   "outputs": [
    {
     "name": "stderr",
     "output_type": "stream",
     "text": [
      "[Stage 3:=============================>                             (1 + 1) / 2]\r"
     ]
    },
    {
     "name": "stdout",
     "output_type": "stream",
     "text": [
      "+----------+---------+---------+---------+\n",
      "|product_id|min_price|max_price|price_avg|\n",
      "+----------+---------+---------+---------+\n",
      "|       148|   853.33|  4633.04|  2264.83|\n",
      "|       496|     50.0|    881.0|   281.19|\n",
      "|       463|    111.0|    589.0|    306.4|\n",
      "|       471|   6000.0| 65901.11| 27692.07|\n",
      "|       243|  1411.76| 11936.51|  3557.27|\n",
      "|       392|   432.81|  3847.08|  1000.81|\n",
      "|        31|    275.8|   659.32|   386.71|\n",
      "|       451|     61.0|  3911.52|   634.37|\n",
      "|       137|  3328.29|  14937.7|  8117.33|\n",
      "|       251|   890.58|  7155.84|  3403.97|\n",
      "|        85|     90.2|   334.37|   148.68|\n",
      "|       458|    57.99|   183.77|    105.2|\n",
      "|        65|   597.38|  1319.07|   851.27|\n",
      "|        53|    97.62|   406.35|   196.31|\n",
      "|       255|    643.6|  3603.95|  1424.22|\n",
      "|       481|  8468.47|  92600.0| 27064.82|\n",
      "|       296|   4709.8| 26666.99| 11591.51|\n",
      "|       133|    39.93|    245.0|    88.32|\n",
      "|       472|    106.0|   935.25|   275.54|\n",
      "|       322|468359.28| 750167.4|556312.04|\n",
      "+----------+---------+---------+---------+\n",
      "only showing top 20 rows\n",
      "\n"
     ]
    },
    {
     "name": "stderr",
     "output_type": "stream",
     "text": [
      "                                                                                \r"
     ]
    }
   ],
   "source": [
    "price_stat_df.show()"
   ]
  },
  {
   "cell_type": "code",
   "execution_count": 369,
   "metadata": {},
   "outputs": [
    {
     "name": "stderr",
     "output_type": "stream",
     "text": [
      "                                                                                \r"
     ]
    }
   ],
   "source": [
    "price_stat_result_path = \"{}/price_stat\".format(output_path)\n",
    "\n",
    "(price_stat_df\n",
    " .repartition(1)\n",
    " .write\n",
    " .mode(\"overwrite\")\n",
    " .option(\"header\", \"true\")\n",
    " .option(\"sep\", \";\")\n",
    " .csv(price_stat_result_path)\n",
    ")"
   ]
  },
  {
   "cell_type": "markdown",
   "metadata": {},
   "source": [
    "# Статистика по ОК"
   ]
  },
  {
   "cell_type": "code",
   "execution_count": 205,
   "metadata": {},
   "outputs": [],
   "source": [
    "# # Средняя цена на товары\n",
    "\n",
    "# avg_price = (\n",
    "#     prices_df\n",
    "#     .select(\n",
    "#         sf.avg('price').alias(\"price_avg\")\n",
    "#     )\n",
    "# )\n",
    "\n",
    "# avg_price.show()\n",
    "\n",
    "# # Id городов, в которых цена выше средней на товары\n",
    "# cities_df = (\n",
    "#     prices_df\n",
    "#     .groupBy(\"city_id\")\n",
    "#     .agg(sf.avg('price').alias(\"price_avg\"))\n",
    "#     .filter(sf.col(\"price_avg\") > avg_price.first()['price_avg'])\n",
    "# )"
   ]
  },
  {
   "cell_type": "code",
   "execution_count": 370,
   "metadata": {},
   "outputs": [
    {
     "name": "stderr",
     "output_type": "stream",
     "text": [
      "[Stage 19:>                                                         (0 + 1) / 1]\r"
     ]
    },
    {
     "name": "stdout",
     "output_type": "stream",
     "text": [
      "+-------+\n",
      "|city_id|\n",
      "+-------+\n",
      "|    148|\n",
      "|    243|\n",
      "|     31|\n",
      "|     85|\n",
      "|    251|\n",
      "|    137|\n",
      "|     65|\n",
      "|    255|\n",
      "|     53|\n",
      "|    133|\n",
      "|     78|\n",
      "|    108|\n",
      "|    155|\n",
      "|     34|\n",
      "|    193|\n",
      "|    211|\n",
      "|    126|\n",
      "|    115|\n",
      "|    101|\n",
      "|     81|\n",
      "+-------+\n",
      "only showing top 20 rows\n",
      "\n"
     ]
    },
    {
     "name": "stderr",
     "output_type": "stream",
     "text": [
      "                                                                                \r"
     ]
    }
   ],
   "source": [
    "# Города, где хотя бы на один товар цена выше среднего\n",
    "\n",
    "cities_df = (\n",
    "    prices_df\n",
    "    .groupBy([\"city_id\", \"product_id\"])\n",
    "    .agg(sf.avg('price').alias(\"price_avg\"))\n",
    "    #.filter(sf.col(\"price_avg\") > avg_price.first()['price_avg'])\n",
    "    .join(price_stat_df.select(sf.col('price_avg').alias('price_avg_by_all_cities'), sf.col('product_id')), on='product_id', how='left')\n",
    "    .select('city_id')\n",
    "    .where(sf.col('price_avg') > sf.col('price_avg_by_all_cities'))\n",
    "    .distinct()\n",
    ")\n",
    "\n",
    "cities_df.show()"
   ]
  },
  {
   "cell_type": "code",
   "execution_count": 371,
   "metadata": {},
   "outputs": [
    {
     "name": "stderr",
     "output_type": "stream",
     "text": [
      "                                                                                \r"
     ]
    },
    {
     "data": {
      "text/plain": [
       "284"
      ]
     },
     "execution_count": 371,
     "metadata": {},
     "output_type": "execute_result"
    }
   ],
   "source": [
    "cities_df.count() #Количество городов"
   ]
  },
  {
   "cell_type": "code",
   "execution_count": 372,
   "metadata": {},
   "outputs": [],
   "source": [
    "# Страны\n",
    "source_countries_df = (\n",
    "    spark.read\n",
    "        .option(\"header\", \"false\")\n",
    "        .option(\"sep\", \",\")\n",
    "        .csv(country_path)\n",
    ")\n",
    "\n",
    "countries_df = (\n",
    "    source_countries_df\n",
    "    .select(\n",
    "        sf.col(\"_c0\").cast(StringType()).alias(\"country_id\"),\n",
    "        sf.col(\"_c1\").cast(StringType()).alias(\"name\"),\n",
    "    )\n",
    ")\n",
    "\n",
    "russia_id = countries_df.where(countries_df.name == 'Россия').select(\"country_id\")"
   ]
  },
  {
   "cell_type": "code",
   "execution_count": 373,
   "metadata": {},
   "outputs": [
    {
     "name": "stdout",
     "output_type": "stream",
     "text": [
      "+-----------+\n",
      "| country_id|\n",
      "+-----------+\n",
      "|10414533690|\n",
      "+-----------+\n",
      "\n"
     ]
    }
   ],
   "source": [
    "russia_id.show()"
   ]
  },
  {
   "cell_type": "code",
   "execution_count": 374,
   "metadata": {},
   "outputs": [],
   "source": [
    "# Сопоставление id росстата и ok\n",
    "source_ok_rs_cities_id = (\n",
    "    spark.read\n",
    "        .option(\"header\", \"false\")\n",
    "        .option(\"sep\", \"\\t\")\n",
    "        .csv(cities_path)\n",
    ")\n",
    "\n",
    "ok_rs_cities_id = (\n",
    "    source_ok_rs_cities_id\n",
    "    .select(\n",
    "        sf.col(\"_c0\").cast(IntegerType()).alias(\"city_ok_id\"),\n",
    "        sf.col(\"_c1\").cast(IntegerType()).alias(\"city_rs_id\"),\n",
    "    )\n",
    ")"
   ]
  },
  {
   "cell_type": "code",
   "execution_count": 375,
   "metadata": {},
   "outputs": [],
   "source": [
    "# Имена городов по данным росстата \n",
    "\n",
    "name_cities_path = \"{}/city.csv\".format(rosstat_path)\n",
    "\n",
    "source_ok_rs_cities_id = (\n",
    "    spark.read\n",
    "        .option(\"header\", \"false\")\n",
    "        .option(\"sep\", \";\")\n",
    "        .csv(name_cities_path)\n",
    ")\n",
    "\n",
    "rs_cities_df = (\n",
    "    source_ok_rs_cities_id\n",
    "    .select(\n",
    "        sf.col(\"_c0\").cast(StringType()).alias(\"city_name\"),\n",
    "        sf.col(\"_c1\").cast(IntegerType()).alias(\"city_id\"),\n",
    "    )\n",
    ")\n"
   ]
  },
  {
   "cell_type": "code",
   "execution_count": 376,
   "metadata": {},
   "outputs": [],
   "source": [
    "# Имена городов c id ok, которые есть в cities_df\n",
    "\n",
    "names_ok_cities_df = (\n",
    "    rs_cities_df\n",
    "    .join(cities_df, rs_cities_df.city_id==cities_df.city_id, how='left')\n",
    "    .join(ok_rs_cities_id, rs_cities_df.city_id==ok_rs_cities_id.city_rs_id, how='left')\n",
    "    .select(sf.col('city_name'),\n",
    "            sf.col('city_ok_id')\n",
    "           )\n",
    ")"
   ]
  },
  {
   "cell_type": "code",
   "execution_count": 377,
   "metadata": {},
   "outputs": [
    {
     "name": "stdout",
     "output_type": "stream",
     "text": [
      "+----------------+----------+\n",
      "|       city_name|city_ok_id|\n",
      "+----------------+----------+\n",
      "|        Белгород|   1000792|\n",
      "|          Губкин|   6190119|\n",
      "|    Старый Оскол|    613013|\n",
      "|          Брянск|   3100570|\n",
      "|           Навля|   4170694|\n",
      "|          Клинцы|   1270354|\n",
      "|      Новозыбков|   3260868|\n",
      "|        Владимир|   2270388|\n",
      "|Гусь-Хрустальный|  12101942|\n",
      "|          Ковров|   3380088|\n",
      "|           Муром|   2390694|\n",
      "|         Воронеж|   4530796|\n",
      "|    Борисоглебск|   1600307|\n",
      "|         Россошь|   3630145|\n",
      "|         Иваново|   3610558|\n",
      "|         Кинешма|   2700384|\n",
      "|          Калуга|   3850033|\n",
      "|        Людиново|   1870640|\n",
      "|         Обнинск|   1071212|\n",
      "|        Кострома|   4181225|\n",
      "+----------------+----------+\n",
      "only showing top 20 rows\n",
      "\n"
     ]
    }
   ],
   "source": [
    "names_ok_cities_df.show()"
   ]
  },
  {
   "cell_type": "code",
   "execution_count": 378,
   "metadata": {},
   "outputs": [],
   "source": [
    "# Таблтица ОК жителей России с полом, возрастом и городом\n",
    "source_ok_df = (\n",
    "    spark.read\n",
    "        .option(\"header\", \"false\")\n",
    "        .option(\"sep\", \"\\t\")\n",
    "        .csv(demography_path) # .limit(20)\n",
    ")\n",
    "\n",
    "source_ok_df = source_ok_df.where(sf.col(\"_c4\") == russia_id.first()['country_id'])\n",
    "\n",
    "ok_df = (\n",
    "    source_ok_df\n",
    "    .select( \n",
    "        sf.floor(sf.datediff(sf.to_date(sf.lit(current_dt)),\n",
    "                 sf.from_unixtime(sf.col(\"_c2\").cast(IntegerType()) * (24*60*60))) / 365.25).alias(\"age\"),\n",
    "        sf.col(\"_c3\").cast(IntegerType()).alias(\"sex\"),\n",
    "        sf.col(\"_c5\").cast(IntegerType()).alias(\"city_ok_id\"),\n",
    "    )\n",
    ")"
   ]
  },
  {
   "cell_type": "code",
   "execution_count": 379,
   "metadata": {},
   "outputs": [],
   "source": [
    "men_id = 1\n",
    "women_id = 2\n",
    "\n",
    "ok_dem_df = (\n",
    "    ok_df\n",
    "    .groupBy(\"city_ok_id\")\n",
    "    .agg(sf.count(\"*\").alias(\"user_cnt\"),\n",
    "         sf.round(sf.avg(\"age\"), 2).alias(\"age_avg\"),\n",
    "         sf.count(sf.when(sf.col('sex') == men_id, 1)).alias(\"men_cnt\"),\n",
    "         sf.count(sf.when(sf.col('sex') == women_id, 1)).alias(\"women_cnt\"))\n",
    "    .withColumn(\"men_share\", sf.round(sf.col('men_cnt') / sf.col('user_cnt'), 2))\n",
    "    .withColumn(\"women_share\", sf.round(sf.col('women_cnt') / sf.col('user_cnt'), 2))\n",
    "    .join(names_ok_cities_df, on='city_ok_id', how='inner')\n",
    "    .select(sf.col('city_name'),\n",
    "            sf.col('user_cnt'),\n",
    "            sf.col('age_avg'),\n",
    "            sf.col('men_cnt'),\n",
    "            sf.col('women_cnt'),\n",
    "            sf.col('men_share'),\n",
    "            sf.col('women_share'),\n",
    "           )\n",
    ")"
   ]
  },
  {
   "cell_type": "code",
   "execution_count": 380,
   "metadata": {},
   "outputs": [
    {
     "name": "stderr",
     "output_type": "stream",
     "text": [
      "[Stage 46:>                                                         (0 + 2) / 2]\r"
     ]
    },
    {
     "name": "stdout",
     "output_type": "stream",
     "text": [
      "+----------------+--------+-------+-------+---------+---------+-----------+\n",
      "|       city_name|user_cnt|age_avg|men_cnt|women_cnt|men_share|women_share|\n",
      "+----------------+--------+-------+-------+---------+---------+-----------+\n",
      "|        Белгород|      29|  45.14|      1|       28|     0.03|       0.97|\n",
      "|          Губкин|     149|  45.35|     53|       96|     0.36|       0.64|\n",
      "|    Старый Оскол|      25|  43.04|      4|       21|     0.16|       0.84|\n",
      "|          Брянск|      30|   42.2|      5|       25|     0.17|       0.83|\n",
      "|           Навля|      84|  45.92|     13|       71|     0.15|       0.85|\n",
      "|          Клинцы|     409|  40.84|    120|      289|     0.29|       0.71|\n",
      "|      Новозыбков|      44|  41.05|     17|       27|     0.39|       0.61|\n",
      "|        Владимир|      84|  52.52|     20|       64|     0.24|       0.76|\n",
      "|Гусь-Хрустальный|      32|  34.44|      8|       24|     0.25|       0.75|\n",
      "|          Ковров|      21|  40.95|     10|       11|     0.48|       0.52|\n",
      "|           Муром|      34|  44.03|      7|       27|     0.21|       0.79|\n",
      "|         Воронеж|     119|  46.64|     21|       98|     0.18|       0.82|\n",
      "|    Борисоглебск|     100|   40.9|     52|       48|     0.52|       0.48|\n",
      "|         Россошь|      25|  46.52|      6|       19|     0.24|       0.76|\n",
      "|         Иваново|      87|  40.67|     25|       62|     0.29|       0.71|\n",
      "|         Кинешма|      37|   52.0|     12|       25|     0.32|       0.68|\n",
      "|          Калуга|      85|  40.66|     13|       72|     0.15|       0.85|\n",
      "|        Людиново|     151|  45.44|     35|      116|     0.23|       0.77|\n",
      "|         Обнинск|      38|  41.95|     15|       23|     0.39|       0.61|\n",
      "|        Кострома|      20|   34.2|      7|       13|     0.35|       0.65|\n",
      "+----------------+--------+-------+-------+---------+---------+-----------+\n",
      "only showing top 20 rows\n",
      "\n"
     ]
    },
    {
     "name": "stderr",
     "output_type": "stream",
     "text": [
      "                                                                                \r"
     ]
    }
   ],
   "source": [
    "ok_dem_df.show()"
   ]
  },
  {
   "cell_type": "code",
   "execution_count": 381,
   "metadata": {},
   "outputs": [
    {
     "name": "stderr",
     "output_type": "stream",
     "text": [
      "                                                                                \r"
     ]
    }
   ],
   "source": [
    "ok_dem_result_path = \"{}/ok_dem\".format(output_path)\n",
    "\n",
    "(ok_dem_df\n",
    " .repartition(1)\n",
    " .sortWithinPartitions(sf.col(\"user_cnt\").desc())\n",
    " .write\n",
    " .mode(\"overwrite\")\n",
    " .option(\"header\", \"true\")\n",
    " .option(\"sep\", \";\")\n",
    " .csv(ok_dem_result_path)\n",
    ")"
   ]
  },
  {
   "cell_type": "markdown",
   "metadata": {},
   "source": [
    "# Cамый дешевый и самый дорогой товары"
   ]
  },
  {
   "cell_type": "code",
   "execution_count": 382,
   "metadata": {},
   "outputs": [
    {
     "name": "stderr",
     "output_type": "stream",
     "text": [
      "                                                                                \r"
     ]
    }
   ],
   "source": [
    "min_avg_age_city = ok_dem_df.agg(sf.min_by('city_name', 'age_avg').alias('city_name')).first()['city_name']\n",
    "max_avg_age_city = ok_dem_df.agg(sf.max_by('city_name', 'age_avg').alias('city_name')).first()['city_name']\n",
    "max_men_share_city = ok_dem_df.agg(sf.max_by('city_name', 'men_share').alias('city_name')).first()['city_name']\n",
    "max_women_share_city = ok_dem_df.agg(sf.max_by('city_name', 'women_share').alias('city_name')).first()['city_name']"
   ]
  },
  {
   "cell_type": "code",
   "execution_count": 383,
   "metadata": {},
   "outputs": [
    {
     "name": "stdout",
     "output_type": "stream",
     "text": [
      "+-----------+-------+\n",
      "|  city_name|city_id|\n",
      "+-----------+-------+\n",
      "|     Тихвин|     88|\n",
      "|Симферополь|    105|\n",
      "|     Казань|    153|\n",
      "|      Канаш|    160|\n",
      "+-----------+-------+\n",
      "\n"
     ]
    }
   ],
   "source": [
    "selected_city_id = rs_cities_df.where(rs_cities_df.city_name.isin([min_avg_age_city, max_avg_age_city, max_men_share_city, max_women_share_city]))\n",
    "selected_city_id.show()"
   ]
  },
  {
   "cell_type": "code",
   "execution_count": 353,
   "metadata": {},
   "outputs": [],
   "source": [
    "products_path = \"{}/product.csv\".format(rosstat_path)\n",
    "\n",
    "source_products_name_df = (\n",
    "    spark.read\n",
    "        .option(\"header\", \"false\")\n",
    "        .option(\"sep\", \";\")\n",
    "        .csv(products_path) #.limit(20)\n",
    ")\n",
    "\n",
    "products_name_df = (\n",
    "    source_products_name_df\n",
    "    .select(\n",
    "        sf.col(\"_c0\").cast(StringType()).alias(\"product_name\"),\n",
    "        sf.col(\"_c1\").cast(IntegerType()).alias(\"product_id\"),\n",
    "    )\n",
    ")"
   ]
  },
  {
   "cell_type": "code",
   "execution_count": 354,
   "metadata": {},
   "outputs": [],
   "source": [
    "product_stat_df = (\n",
    "    prices_df\n",
    "    .join(selected_city_id, on='city_id', how='inner')\n",
    "    .groupBy(\"city_name\")\n",
    "    .agg(sf.min_by(\"product_id\", \"price\").alias(\"cheapest_product_id\"),\n",
    "         sf.max_by(\"product_id\", \"price\").alias(\"most_expensive_product_id\"),\n",
    "         (sf.max(\"price\") -  sf.min(\"price\").alias(\"cheapest_product_name\")).alias(\"price_difference\")\n",
    "        )\n",
    "    .join(products_name_df.select(sf.col('product_name').alias('cheapest_product_name'),\n",
    "                                  sf.col('product_id').alias('cheapest_product_id')),\n",
    "          on=\"cheapest_product_id\", how='left')\n",
    "    .join(products_name_df.select(sf.col('product_name').alias('most_expensive_product_name'),\n",
    "                                  sf.col('product_id').alias('most_expensive_product_id')),\n",
    "          on=\"most_expensive_product_id\", how='left')\n",
    "    .select(sf.col(\"city_name\"),\n",
    "            sf.col(\"cheapest_product_name\"),\n",
    "            sf.col(\"most_expensive_product_name\"),\n",
    "            sf.col(\"price_difference\"),\n",
    "           )\n",
    ")"
   ]
  },
  {
   "cell_type": "code",
   "execution_count": 355,
   "metadata": {},
   "outputs": [
    {
     "name": "stderr",
     "output_type": "stream",
     "text": [
      "[Stage 126:============================>                            (1 + 1) / 2]\r"
     ]
    },
    {
     "name": "stdout",
     "output_type": "stream",
     "text": [
      "+-----------+---------------------+---------------------------+----------------+\n",
      "|  city_name|cheapest_product_name|most_expensive_product_name|price_difference|\n",
      "+-----------+---------------------+---------------------------+----------------+\n",
      "|Симферополь|      Спички, коробок|       Легковой автомоби...|        790489.3|\n",
      "|     Казань| Предоставление ме...|       Легковой автомоби...|        909921.8|\n",
      "|     Тихвин| Предоставление ме...|       Легковой автомоби...|       619285.94|\n",
      "|      Канаш| Предоставление ме...|       Годовая стоимость...|        43383.27|\n",
      "+-----------+---------------------+---------------------------+----------------+\n",
      "\n"
     ]
    },
    {
     "name": "stderr",
     "output_type": "stream",
     "text": [
      "                                                                                \r"
     ]
    }
   ],
   "source": [
    "product_stat_df.show()"
   ]
  },
  {
   "cell_type": "code",
   "execution_count": 356,
   "metadata": {},
   "outputs": [
    {
     "name": "stderr",
     "output_type": "stream",
     "text": [
      "                                                                                \r"
     ]
    }
   ],
   "source": [
    "product_stat_path = \"{}/product_stat\".format(output_path)\n",
    "\n",
    "(product_stat_df\n",
    " .repartition(1)\n",
    " .write\n",
    " .mode(\"overwrite\")\n",
    " .option(\"header\", \"true\")\n",
    " .option(\"sep\", \";\")\n",
    " .csv(product_stat_path)\n",
    ")"
   ]
  },
  {
   "cell_type": "code",
   "execution_count": 363,
   "metadata": {},
   "outputs": [],
   "source": [
    "# После работы обязательно отключаем спарк и отдаем ресурсы!\n",
    "spark.stop()"
   ]
  },
  {
   "cell_type": "code",
   "execution_count": null,
   "metadata": {},
   "outputs": [],
   "source": []
  },
  {
   "cell_type": "code",
   "execution_count": null,
   "metadata": {},
   "outputs": [],
   "source": []
  }
 ],
 "metadata": {
  "kernelspec": {
   "display_name": "Python 3 (ipykernel)",
   "language": "python",
   "name": "python3"
  },
  "language_info": {
   "codemirror_mode": {
    "name": "ipython",
    "version": 3
   },
   "file_extension": ".py",
   "mimetype": "text/x-python",
   "name": "python",
   "nbconvert_exporter": "python",
   "pygments_lexer": "ipython3",
   "version": "3.10.13"
  }
 },
 "nbformat": 4,
 "nbformat_minor": 4
}
